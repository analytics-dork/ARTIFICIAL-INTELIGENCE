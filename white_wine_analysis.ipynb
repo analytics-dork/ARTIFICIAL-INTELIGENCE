{
  "nbformat": 4,
  "nbformat_minor": 0,
  "metadata": {
    "colab": {
      "name": "white_wine_analysis.ipynb",
      "provenance": [],
      "collapsed_sections": [],
      "toc_visible": true,
      "authorship_tag": "ABX9TyMpo0H8Un0A3tg2p1vHq7/P",
      "include_colab_link": true
    },
    "kernelspec": {
      "name": "python3",
      "display_name": "Python 3"
    }
  },
  "cells": [
    {
      "cell_type": "markdown",
      "metadata": {
        "id": "view-in-github",
        "colab_type": "text"
      },
      "source": [
        "<a href=\"https://colab.research.google.com/github/mr-atinyo/ARTIFICIAL-INTELIIGENCE/blob/master/white_wine_analysis.ipynb\" target=\"_parent\"><img src=\"https://colab.research.google.com/assets/colab-badge.svg\" alt=\"Open In Colab\"/></a>"
      ]
    },
    {
      "cell_type": "markdown",
      "metadata": {
        "id": "O-5nd1lERmTQ",
        "colab_type": "text"
      },
      "source": [
        "**CSCD 312_AI EXAM SOLUTIONS TO QUESTIONS 1a and 2  | 10689990**"
      ]
    },
    {
      "cell_type": "markdown",
      "metadata": {
        "id": "_tX9GI45yqXN",
        "colab_type": "text"
      },
      "source": [
        "# **1a. White-wine Quality Analysis** \n",
        "The focus is to develop models that can predict wine quality - white-wine - based on physiochemical tests: alcohol quantity, fixed acidity, volatile acidity, etc., compare the performance of the models and discuss the result"
      ]
    },
    {
      "cell_type": "markdown",
      "metadata": {
        "id": "7T2Z52IuG_Kh",
        "colab_type": "text"
      },
      "source": [
        "#**Setup**\n",
        "Let's begin by preparing the drive containing the dataset, since google colab notebook was used with the data set resident on google drive"
      ]
    },
    {
      "cell_type": "code",
      "metadata": {
        "colab_type": "code",
        "id": "aSmhGabAIIRF",
        "colab": {}
      },
      "source": [
        "from google.colab import drive\n",
        "drive.mount('/content/drive')"
      ],
      "execution_count": 0,
      "outputs": []
    },
    {
      "cell_type": "markdown",
      "metadata": {
        "id": "kxS0VvZBoS8D",
        "colab_type": "text"
      },
      "source": [
        "Importing all libraries needed for data exploration, preprocessing, developing and comparing the models"
      ]
    },
    {
      "cell_type": "code",
      "metadata": {
        "id": "852QUPorJjgI",
        "colab_type": "code",
        "colab": {}
      },
      "source": [
        "import pandas as pd\n",
        "import numpy as np\n",
        "import matplotlib.pyplot as plt\n",
        "%matplotlib inline\n",
        "plt.style.use('ggplot')\n",
        "import seaborn as sns\n",
        "from scipy import stats\n",
        "from sklearn import metrics\n",
        "from sklearn import preprocessing\n",
        "from sklearn import model_selection\n",
        "from sklearn.model_selection import train_test_split\n",
        "from sklearn.pipeline import make_pipeline\n",
        "from sklearn.tree import DecisionTreeClassifier\n",
        "from sklearn.ensemble import RandomForestClassifier\n",
        "from sklearn.naive_bayes import GaussianNB\n",
        "from sklearn.neighbors import KNeighborsClassifier\n",
        "from sklearn.linear_model import LogisticRegression\n",
        "import warnings\n",
        "warnings.filterwarnings(\"ignore\")"
      ],
      "execution_count": 0,
      "outputs": []
    },
    {
      "cell_type": "markdown",
      "metadata": {
        "id": "v5zowITwobLv",
        "colab_type": "text"
      },
      "source": [
        "Loading the white-wine dataset"
      ]
    },
    {
      "cell_type": "code",
      "metadata": {
        "id": "7JfpJrakLnry",
        "colab_type": "code",
        "outputId": "407c5ea9-65f8-4534-f6ce-c80c1307a6ca",
        "colab": {
          "base_uri": "https://localhost:8080/",
          "height": 134
        }
      },
      "source": [
        "white_wine = pd.read_csv('/content/drive/My Drive/Colab Notebooks/AI-EXAM/winequality-white.csv', delimiter = ';')\n",
        "white_wine.head(1)"
      ],
      "execution_count": 26,
      "outputs": [
        {
          "output_type": "execute_result",
          "data": {
            "text/html": [
              "<div>\n",
              "<style scoped>\n",
              "    .dataframe tbody tr th:only-of-type {\n",
              "        vertical-align: middle;\n",
              "    }\n",
              "\n",
              "    .dataframe tbody tr th {\n",
              "        vertical-align: top;\n",
              "    }\n",
              "\n",
              "    .dataframe thead th {\n",
              "        text-align: right;\n",
              "    }\n",
              "</style>\n",
              "<table border=\"1\" class=\"dataframe\">\n",
              "  <thead>\n",
              "    <tr style=\"text-align: right;\">\n",
              "      <th></th>\n",
              "      <th>fixed acidity</th>\n",
              "      <th>volatile acidity</th>\n",
              "      <th>citric acid</th>\n",
              "      <th>residual sugar</th>\n",
              "      <th>chlorides</th>\n",
              "      <th>free sulfur dioxide</th>\n",
              "      <th>total sulfur dioxide</th>\n",
              "      <th>density</th>\n",
              "      <th>pH</th>\n",
              "      <th>sulphates</th>\n",
              "      <th>alcohol</th>\n",
              "      <th>quality</th>\n",
              "    </tr>\n",
              "  </thead>\n",
              "  <tbody>\n",
              "    <tr>\n",
              "      <th>0</th>\n",
              "      <td>7.0</td>\n",
              "      <td>0.27</td>\n",
              "      <td>0.36</td>\n",
              "      <td>20.7</td>\n",
              "      <td>0.045</td>\n",
              "      <td>45.0</td>\n",
              "      <td>170.0</td>\n",
              "      <td>1.001</td>\n",
              "      <td>3.0</td>\n",
              "      <td>0.45</td>\n",
              "      <td>8.8</td>\n",
              "      <td>6</td>\n",
              "    </tr>\n",
              "  </tbody>\n",
              "</table>\n",
              "</div>"
            ],
            "text/plain": [
              "   fixed acidity  volatile acidity  citric acid  ...  sulphates  alcohol  quality\n",
              "0            7.0              0.27         0.36  ...       0.45      8.8        6\n",
              "\n",
              "[1 rows x 12 columns]"
            ]
          },
          "metadata": {
            "tags": []
          },
          "execution_count": 26
        }
      ]
    },
    {
      "cell_type": "code",
      "metadata": {
        "id": "jbZmWnm3MDXH",
        "colab_type": "code",
        "outputId": "b461d885-caf0-42fc-90d8-bb869126342f",
        "colab": {
          "base_uri": "https://localhost:8080/",
          "height": 134
        }
      },
      "source": [
        "white_wine.tail(1)"
      ],
      "execution_count": 27,
      "outputs": [
        {
          "output_type": "execute_result",
          "data": {
            "text/html": [
              "<div>\n",
              "<style scoped>\n",
              "    .dataframe tbody tr th:only-of-type {\n",
              "        vertical-align: middle;\n",
              "    }\n",
              "\n",
              "    .dataframe tbody tr th {\n",
              "        vertical-align: top;\n",
              "    }\n",
              "\n",
              "    .dataframe thead th {\n",
              "        text-align: right;\n",
              "    }\n",
              "</style>\n",
              "<table border=\"1\" class=\"dataframe\">\n",
              "  <thead>\n",
              "    <tr style=\"text-align: right;\">\n",
              "      <th></th>\n",
              "      <th>fixed acidity</th>\n",
              "      <th>volatile acidity</th>\n",
              "      <th>citric acid</th>\n",
              "      <th>residual sugar</th>\n",
              "      <th>chlorides</th>\n",
              "      <th>free sulfur dioxide</th>\n",
              "      <th>total sulfur dioxide</th>\n",
              "      <th>density</th>\n",
              "      <th>pH</th>\n",
              "      <th>sulphates</th>\n",
              "      <th>alcohol</th>\n",
              "      <th>quality</th>\n",
              "    </tr>\n",
              "  </thead>\n",
              "  <tbody>\n",
              "    <tr>\n",
              "      <th>4897</th>\n",
              "      <td>6.0</td>\n",
              "      <td>0.21</td>\n",
              "      <td>0.38</td>\n",
              "      <td>0.8</td>\n",
              "      <td>0.02</td>\n",
              "      <td>22.0</td>\n",
              "      <td>98.0</td>\n",
              "      <td>0.98941</td>\n",
              "      <td>3.26</td>\n",
              "      <td>0.32</td>\n",
              "      <td>11.8</td>\n",
              "      <td>6</td>\n",
              "    </tr>\n",
              "  </tbody>\n",
              "</table>\n",
              "</div>"
            ],
            "text/plain": [
              "      fixed acidity  volatile acidity  citric acid  ...  sulphates  alcohol  quality\n",
              "4897            6.0              0.21         0.38  ...       0.32     11.8        6\n",
              "\n",
              "[1 rows x 12 columns]"
            ]
          },
          "metadata": {
            "tags": []
          },
          "execution_count": 27
        }
      ]
    },
    {
      "cell_type": "markdown",
      "metadata": {
        "id": "3esB6jN3PsgR",
        "colab_type": "text"
      },
      "source": [
        "# **Exploratory Data Analysis**\n",
        "The activities to be udertaken at this stage is as follows:\n",
        "\n",
        "* Get dataFrame information\n",
        "\n",
        "* Check for missing values\n",
        "\n",
        "* Detect and eliminate outliers\n",
        "\n",
        "* Look out for the relationship amongst variables in the dataset"
      ]
    },
    {
      "cell_type": "markdown",
      "metadata": {
        "id": "Zo1fyIggrVqY",
        "colab_type": "text"
      },
      "source": [
        "###### The dataframe is as required by the question and there are no missing values\n",
        "---\n",
        "\n"
      ]
    },
    {
      "cell_type": "code",
      "metadata": {
        "id": "AYqgoLcHMVX6",
        "colab_type": "code",
        "outputId": "773eb9c4-cfd8-4002-e345-08319ded0685",
        "colab": {
          "base_uri": "https://localhost:8080/",
          "height": 340
        }
      },
      "source": [
        "white_wine.info()"
      ],
      "execution_count": 28,
      "outputs": [
        {
          "output_type": "stream",
          "text": [
            "<class 'pandas.core.frame.DataFrame'>\n",
            "RangeIndex: 4898 entries, 0 to 4897\n",
            "Data columns (total 12 columns):\n",
            " #   Column                Non-Null Count  Dtype  \n",
            "---  ------                --------------  -----  \n",
            " 0   fixed acidity         4898 non-null   float64\n",
            " 1   volatile acidity      4898 non-null   float64\n",
            " 2   citric acid           4898 non-null   float64\n",
            " 3   residual sugar        4898 non-null   float64\n",
            " 4   chlorides             4898 non-null   float64\n",
            " 5   free sulfur dioxide   4898 non-null   float64\n",
            " 6   total sulfur dioxide  4898 non-null   float64\n",
            " 7   density               4898 non-null   float64\n",
            " 8   pH                    4898 non-null   float64\n",
            " 9   sulphates             4898 non-null   float64\n",
            " 10  alcohol               4898 non-null   float64\n",
            " 11  quality               4898 non-null   int64  \n",
            "dtypes: float64(11), int64(1)\n",
            "memory usage: 459.3 KB\n"
          ],
          "name": "stdout"
        }
      ]
    },
    {
      "cell_type": "code",
      "metadata": {
        "id": "1nhH4igKMmkN",
        "colab_type": "code",
        "outputId": "d3af3ce5-efad-42b7-8af7-3f4bed826197",
        "colab": {
          "base_uri": "https://localhost:8080/",
          "height": 238
        }
      },
      "source": [
        "print(white_wine.isnull().sum())"
      ],
      "execution_count": 29,
      "outputs": [
        {
          "output_type": "stream",
          "text": [
            "fixed acidity           0\n",
            "volatile acidity        0\n",
            "citric acid             0\n",
            "residual sugar          0\n",
            "chlorides               0\n",
            "free sulfur dioxide     0\n",
            "total sulfur dioxide    0\n",
            "density                 0\n",
            "pH                      0\n",
            "sulphates               0\n",
            "alcohol                 0\n",
            "quality                 0\n",
            "dtype: int64\n"
          ],
          "name": "stdout"
        }
      ]
    },
    {
      "cell_type": "markdown",
      "metadata": {
        "id": "9joqX-rftVR9",
        "colab_type": "text"
      },
      "source": [
        "We may want to look at some basic statistical details with respect to individual attributes in the dataFrame"
      ]
    },
    {
      "cell_type": "code",
      "metadata": {
        "id": "J-6Cy0v9O7-Y",
        "colab_type": "code",
        "outputId": "02f2d72f-c052-437b-cf83-37a26eb88071",
        "colab": {
          "base_uri": "https://localhost:8080/",
          "height": 351
        }
      },
      "source": [
        "white_wine.describe()"
      ],
      "execution_count": 30,
      "outputs": [
        {
          "output_type": "execute_result",
          "data": {
            "text/html": [
              "<div>\n",
              "<style scoped>\n",
              "    .dataframe tbody tr th:only-of-type {\n",
              "        vertical-align: middle;\n",
              "    }\n",
              "\n",
              "    .dataframe tbody tr th {\n",
              "        vertical-align: top;\n",
              "    }\n",
              "\n",
              "    .dataframe thead th {\n",
              "        text-align: right;\n",
              "    }\n",
              "</style>\n",
              "<table border=\"1\" class=\"dataframe\">\n",
              "  <thead>\n",
              "    <tr style=\"text-align: right;\">\n",
              "      <th></th>\n",
              "      <th>fixed acidity</th>\n",
              "      <th>volatile acidity</th>\n",
              "      <th>citric acid</th>\n",
              "      <th>residual sugar</th>\n",
              "      <th>chlorides</th>\n",
              "      <th>free sulfur dioxide</th>\n",
              "      <th>total sulfur dioxide</th>\n",
              "      <th>density</th>\n",
              "      <th>pH</th>\n",
              "      <th>sulphates</th>\n",
              "      <th>alcohol</th>\n",
              "      <th>quality</th>\n",
              "    </tr>\n",
              "  </thead>\n",
              "  <tbody>\n",
              "    <tr>\n",
              "      <th>count</th>\n",
              "      <td>4898.000000</td>\n",
              "      <td>4898.000000</td>\n",
              "      <td>4898.000000</td>\n",
              "      <td>4898.000000</td>\n",
              "      <td>4898.000000</td>\n",
              "      <td>4898.000000</td>\n",
              "      <td>4898.000000</td>\n",
              "      <td>4898.000000</td>\n",
              "      <td>4898.000000</td>\n",
              "      <td>4898.000000</td>\n",
              "      <td>4898.000000</td>\n",
              "      <td>4898.000000</td>\n",
              "    </tr>\n",
              "    <tr>\n",
              "      <th>mean</th>\n",
              "      <td>6.854788</td>\n",
              "      <td>0.278241</td>\n",
              "      <td>0.334192</td>\n",
              "      <td>6.391415</td>\n",
              "      <td>0.045772</td>\n",
              "      <td>35.308085</td>\n",
              "      <td>138.360657</td>\n",
              "      <td>0.994027</td>\n",
              "      <td>3.188267</td>\n",
              "      <td>0.489847</td>\n",
              "      <td>10.514267</td>\n",
              "      <td>5.877909</td>\n",
              "    </tr>\n",
              "    <tr>\n",
              "      <th>std</th>\n",
              "      <td>0.843868</td>\n",
              "      <td>0.100795</td>\n",
              "      <td>0.121020</td>\n",
              "      <td>5.072058</td>\n",
              "      <td>0.021848</td>\n",
              "      <td>17.007137</td>\n",
              "      <td>42.498065</td>\n",
              "      <td>0.002991</td>\n",
              "      <td>0.151001</td>\n",
              "      <td>0.114126</td>\n",
              "      <td>1.230621</td>\n",
              "      <td>0.885639</td>\n",
              "    </tr>\n",
              "    <tr>\n",
              "      <th>min</th>\n",
              "      <td>3.800000</td>\n",
              "      <td>0.080000</td>\n",
              "      <td>0.000000</td>\n",
              "      <td>0.600000</td>\n",
              "      <td>0.009000</td>\n",
              "      <td>2.000000</td>\n",
              "      <td>9.000000</td>\n",
              "      <td>0.987110</td>\n",
              "      <td>2.720000</td>\n",
              "      <td>0.220000</td>\n",
              "      <td>8.000000</td>\n",
              "      <td>3.000000</td>\n",
              "    </tr>\n",
              "    <tr>\n",
              "      <th>25%</th>\n",
              "      <td>6.300000</td>\n",
              "      <td>0.210000</td>\n",
              "      <td>0.270000</td>\n",
              "      <td>1.700000</td>\n",
              "      <td>0.036000</td>\n",
              "      <td>23.000000</td>\n",
              "      <td>108.000000</td>\n",
              "      <td>0.991723</td>\n",
              "      <td>3.090000</td>\n",
              "      <td>0.410000</td>\n",
              "      <td>9.500000</td>\n",
              "      <td>5.000000</td>\n",
              "    </tr>\n",
              "    <tr>\n",
              "      <th>50%</th>\n",
              "      <td>6.800000</td>\n",
              "      <td>0.260000</td>\n",
              "      <td>0.320000</td>\n",
              "      <td>5.200000</td>\n",
              "      <td>0.043000</td>\n",
              "      <td>34.000000</td>\n",
              "      <td>134.000000</td>\n",
              "      <td>0.993740</td>\n",
              "      <td>3.180000</td>\n",
              "      <td>0.470000</td>\n",
              "      <td>10.400000</td>\n",
              "      <td>6.000000</td>\n",
              "    </tr>\n",
              "    <tr>\n",
              "      <th>75%</th>\n",
              "      <td>7.300000</td>\n",
              "      <td>0.320000</td>\n",
              "      <td>0.390000</td>\n",
              "      <td>9.900000</td>\n",
              "      <td>0.050000</td>\n",
              "      <td>46.000000</td>\n",
              "      <td>167.000000</td>\n",
              "      <td>0.996100</td>\n",
              "      <td>3.280000</td>\n",
              "      <td>0.550000</td>\n",
              "      <td>11.400000</td>\n",
              "      <td>6.000000</td>\n",
              "    </tr>\n",
              "    <tr>\n",
              "      <th>max</th>\n",
              "      <td>14.200000</td>\n",
              "      <td>1.100000</td>\n",
              "      <td>1.660000</td>\n",
              "      <td>65.800000</td>\n",
              "      <td>0.346000</td>\n",
              "      <td>289.000000</td>\n",
              "      <td>440.000000</td>\n",
              "      <td>1.038980</td>\n",
              "      <td>3.820000</td>\n",
              "      <td>1.080000</td>\n",
              "      <td>14.200000</td>\n",
              "      <td>9.000000</td>\n",
              "    </tr>\n",
              "  </tbody>\n",
              "</table>\n",
              "</div>"
            ],
            "text/plain": [
              "       fixed acidity  volatile acidity  ...      alcohol      quality\n",
              "count    4898.000000       4898.000000  ...  4898.000000  4898.000000\n",
              "mean        6.854788          0.278241  ...    10.514267     5.877909\n",
              "std         0.843868          0.100795  ...     1.230621     0.885639\n",
              "min         3.800000          0.080000  ...     8.000000     3.000000\n",
              "25%         6.300000          0.210000  ...     9.500000     5.000000\n",
              "50%         6.800000          0.260000  ...    10.400000     6.000000\n",
              "75%         7.300000          0.320000  ...    11.400000     6.000000\n",
              "max        14.200000          1.100000  ...    14.200000     9.000000\n",
              "\n",
              "[8 rows x 12 columns]"
            ]
          },
          "metadata": {
            "tags": []
          },
          "execution_count": 30
        }
      ]
    },
    {
      "cell_type": "markdown",
      "metadata": {
        "id": "pzAGst7MtxZ8",
        "colab_type": "text"
      },
      "source": [
        "Let's use the boxplot to display the distribution of values in particular attributes - residual sugar,  free sulfur dioxide and total sulfur dioxide - so as to appreciate the existence of outliers and skewness"
      ]
    },
    {
      "cell_type": "code",
      "metadata": {
        "id": "os_4QfX1O_Sx",
        "colab_type": "code",
        "outputId": "31059576-ce43-437d-8516-d25230e5298e",
        "colab": {
          "base_uri": "https://localhost:8080/",
          "height": 299
        }
      },
      "source": [
        "sns.boxplot(white_wine['residual sugar'])"
      ],
      "execution_count": 31,
      "outputs": [
        {
          "output_type": "execute_result",
          "data": {
            "text/plain": [
              "<matplotlib.axes._subplots.AxesSubplot at 0x7f804e82dbe0>"
            ]
          },
          "metadata": {
            "tags": []
          },
          "execution_count": 31
        },
        {
          "output_type": "display_data",
          "data": {
            "image/png": "[encoded data removed]",
            "text/plain": [
              "<Figure size 432x288 with 1 Axes>"
            ]
          },
          "metadata": {
            "tags": []
          }
        }
      ]
    },
    {
      "cell_type": "code",
      "metadata": {
        "colab_type": "code",
        "outputId": "fcbf35ad-3b28-4d14-c27f-0299a42c9bb9",
        "id": "-IDOsikPUfu_",
        "colab": {
          "base_uri": "https://localhost:8080/",
          "height": 299
        }
      },
      "source": [
        "sns.boxplot(white_wine['free sulfur dioxide'])"
      ],
      "execution_count": 32,
      "outputs": [
        {
          "output_type": "execute_result",
          "data": {
            "text/plain": [
              "<matplotlib.axes._subplots.AxesSubplot at 0x7f804ce025f8>"
            ]
          },
          "metadata": {
            "tags": []
          },
          "execution_count": 32
        },
        {
          "output_type": "display_data",
          "data": {
            "image/png": "[encoded data removed]",
            "text/plain": [
              "<Figure size 432x288 with 1 Axes>"
            ]
          },
          "metadata": {
            "tags": []
          }
        }
      ]
    },
    {
      "cell_type": "code",
      "metadata": {
        "colab_type": "code",
        "outputId": "008baf8c-bedf-46f0-82b2-ec44a50cf8bd",
        "id": "wjNlc641U_5A",
        "colab": {
          "base_uri": "https://localhost:8080/",
          "height": 299
        }
      },
      "source": [
        "sns.boxplot(white_wine['total sulfur dioxide'])"
      ],
      "execution_count": 33,
      "outputs": [
        {
          "output_type": "execute_result",
          "data": {
            "text/plain": [
              "<matplotlib.axes._subplots.AxesSubplot at 0x7f804cddccc0>"
            ]
          },
          "metadata": {
            "tags": []
          },
          "execution_count": 33
        },
        {
          "output_type": "display_data",
          "data": {
            "image/png": "[encoded data removed]",
            "text/plain": [
              "<Figure size 432x288 with 1 Axes>"
            ]
          },
          "metadata": {
            "tags": []
          }
        }
      ]
    },
    {
      "cell_type": "markdown",
      "metadata": {
        "id": "7WsEFcanx0Ay",
        "colab_type": "text"
      },
      "source": [
        "Since the are a few outliers, let's go head and remove them using the z score method"
      ]
    },
    {
      "cell_type": "code",
      "metadata": {
        "id": "TEbfqzDVPL1C",
        "colab_type": "code",
        "outputId": "77190b07-c9cf-437c-a296-bb42441ab816",
        "colab": {
          "base_uri": "https://localhost:8080/",
          "height": 34
        }
      },
      "source": [
        "white_wine.shape"
      ],
      "execution_count": 34,
      "outputs": [
        {
          "output_type": "execute_result",
          "data": {
            "text/plain": [
              "(4898, 12)"
            ]
          },
          "metadata": {
            "tags": []
          },
          "execution_count": 34
        }
      ]
    },
    {
      "cell_type": "code",
      "metadata": {
        "id": "YKE9_woLRevH",
        "colab_type": "code",
        "outputId": "ea971077-f894-4ff3-b953-ee12f44fb606",
        "colab": {
          "base_uri": "https://localhost:8080/",
          "height": 34
        }
      },
      "source": [
        "z = np.abs(stats.zscore(white_wine))\n",
        "white_wine = white_wine[(z < 3).all(axis=1)]\n",
        "white_wine.shape"
      ],
      "execution_count": 35,
      "outputs": [
        {
          "output_type": "execute_result",
          "data": {
            "text/plain": [
              "(4487, 12)"
            ]
          },
          "metadata": {
            "tags": []
          },
          "execution_count": 35
        }
      ]
    },
    {
      "cell_type": "markdown",
      "metadata": {
        "id": "jnk_A5Rd0oJM",
        "colab_type": "text"
      },
      "source": [
        "After dealing with outliers, let's take note of the relationship amongst the attributes of the white_wine dataset to identify the variables that strongly infuence wine quality"
      ]
    },
    {
      "cell_type": "code",
      "metadata": {
        "id": "KNc4XlR9U-nS",
        "colab_type": "code",
        "outputId": "9b9a0643-cbcb-4e5f-a041-59d3c822f3c7",
        "colab": {
          "base_uri": "https://localhost:8080/",
          "height": 588
        }
      },
      "source": [
        "plt.subplots(figsize=(10, 8))\n",
        "sns.heatmap(white_wine.corr(), annot = True, cmap = 'viridis')"
      ],
      "execution_count": 36,
      "outputs": [
        {
          "output_type": "execute_result",
          "data": {
            "text/plain": [
              "<matplotlib.axes._subplots.AxesSubplot at 0x7f804cd419e8>"
            ]
          },
          "metadata": {
            "tags": []
          },
          "execution_count": 36
        },
        {
          "output_type": "display_data",
          "data": {
            "image/png": "[encoded data removed]",
            "text/plain": [
              "<Figure size 720x576 with 2 Axes>"
            ]
          },
          "metadata": {
            "tags": []
          }
        }
      ]
    },
    {
      "cell_type": "markdown",
      "metadata": {
        "id": "ZlHFaUtWbO0N",
        "colab_type": "text"
      },
      "source": [
        "# **Transformations applied to the data**\n",
        "* Defining feature and target variables\n",
        "* Standardizing the dataset\n",
        "* Splitting dataset into train and test\n"
      ]
    },
    {
      "cell_type": "code",
      "metadata": {
        "id": "_YN0aV2jWMwA",
        "colab_type": "code",
        "colab": {}
      },
      "source": [
        "X = np.asarray(white_wine.iloc[:,:-1])\n",
        "\n",
        "y = np.asarray(white_wine['quality'])"
      ],
      "execution_count": 0,
      "outputs": []
    },
    {
      "cell_type": "code",
      "metadata": {
        "id": "6_iplKZ5comb",
        "colab_type": "code",
        "colab": {}
      },
      "source": [
        "X = preprocessing.StandardScaler().fit(X).transform(X)"
      ],
      "execution_count": 0,
      "outputs": []
    },
    {
      "cell_type": "code",
      "metadata": {
        "id": "y0DBpW7zctLY",
        "colab_type": "code",
        "outputId": "a6f9e87f-fc6c-4cb0-bc42-616aaa532fc6",
        "colab": {
          "base_uri": "https://localhost:8080/",
          "height": 51
        }
      },
      "source": [
        "X_train, X_test, y_train, y_test = train_test_split( X, y, test_size=0.25)\n",
        "print ('Train set:', X_train.shape, y_train.shape)\n",
        "print ('Test set:', X_test.shape, y_test.shape)\n",
        "\n",
        "seed = 20\n",
        "kfold = model_selection.KFold(n_splits=10, random_state=seed)    "
      ],
      "execution_count": 39,
      "outputs": [
        {
          "output_type": "stream",
          "text": [
            "Train set: (3365, 11) (3365,)\n",
            "Test set: (1122, 11) (1122,)\n"
          ],
          "name": "stdout"
        }
      ]
    },
    {
      "cell_type": "markdown",
      "metadata": {
        "id": "zHtI_txwdeUM",
        "colab_type": "text"
      },
      "source": [
        "# **The Models**\n",
        "* Logistic Regression\n",
        "* Decision Tree\n",
        "* K-Nearest Neighbors\n",
        "* Random Forest\n",
        "* GaussianNB"
      ]
    },
    {
      "cell_type": "code",
      "metadata": {
        "id": "1LPknnxNjh9u",
        "colab_type": "code",
        "colab": {
          "base_uri": "https://localhost:8080/",
          "height": 221
        },
        "outputId": "d50de1b9-5624-443d-88dd-325d772b456f"
      },
      "source": [
        "# Model 1 - Logistic regression model\n",
        "logistic_reg = LogisticRegression(multi_class='multinomial',solver ='newton-cg')\n",
        "logistic_reg.fit(X_train, y_train)\n",
        "\n",
        "y_pred = logistic_reg.predict(X_test)\n",
        "\n",
        "print(metrics.classification_report(y_test, y_pred, digits=3, zero_division = 1))"
      ],
      "execution_count": 40,
      "outputs": [
        {
          "output_type": "stream",
          "text": [
            "              precision    recall  f1-score   support\n",
            "\n",
            "           4      1.000     0.000     0.000        31\n",
            "           5      0.628     0.534     0.577       354\n",
            "           6      0.528     0.779     0.629       502\n",
            "           7      0.637     0.256     0.366       199\n",
            "           8      1.000     0.000     0.000        36\n",
            "\n",
            "    accuracy                          0.562      1122\n",
            "   macro avg      0.759     0.314     0.314      1122\n",
            "weighted avg      0.607     0.562     0.528      1122\n",
            "\n"
          ],
          "name": "stdout"
        }
      ]
    },
    {
      "cell_type": "code",
      "metadata": {
        "id": "IPQoVitfSvH8",
        "colab_type": "code",
        "colab": {
          "base_uri": "https://localhost:8080/",
          "height": 221
        },
        "outputId": "81986b59-c9a7-4017-ab9b-765e129184e8"
      },
      "source": [
        "# Model 2 - Decision Tree Classification model\n",
        "decision_tree = DecisionTreeClassifier(random_state=0)\n",
        "decision_tree.fit(X_train, y_train)\n",
        "\n",
        "y_pred = decision_tree.predict(X_test)\n",
        "\n",
        "print(metrics.classification_report(y_test, y_pred.round(), digits=3, zero_division=1))"
      ],
      "execution_count": 41,
      "outputs": [
        {
          "output_type": "stream",
          "text": [
            "              precision    recall  f1-score   support\n",
            "\n",
            "           4      0.128     0.194     0.154        31\n",
            "           5      0.633     0.638     0.636       354\n",
            "           6      0.656     0.635     0.646       502\n",
            "           7      0.545     0.518     0.531       199\n",
            "           8      0.372     0.444     0.405        36\n",
            "\n",
            "    accuracy                          0.597      1122\n",
            "   macro avg      0.467     0.486     0.474      1122\n",
            "weighted avg      0.606     0.597     0.601      1122\n",
            "\n"
          ],
          "name": "stdout"
        }
      ]
    },
    {
      "cell_type": "code",
      "metadata": {
        "id": "orcWiY9IurLh",
        "colab_type": "code",
        "colab": {
          "base_uri": "https://localhost:8080/",
          "height": 221
        },
        "outputId": "67f5b5b1-81fb-4270-884b-0416fca53878"
      },
      "source": [
        "# Model 3 - K-Nearest Neighbors Classifier\n",
        "\n",
        "knc = KNeighborsClassifier(n_neighbors=19)\n",
        "knc.fit(X_train, y_train)\n",
        "y_pred = knc.predict(X_test)\n",
        "\n",
        "print(metrics.classification_report(y_test, y_pred, digits=3, zero_division = 1))"
      ],
      "execution_count": 42,
      "outputs": [
        {
          "output_type": "stream",
          "text": [
            "              precision    recall  f1-score   support\n",
            "\n",
            "           4      0.000     0.000     0.000        31\n",
            "           5      0.599     0.556     0.577       354\n",
            "           6      0.556     0.705     0.622       502\n",
            "           7      0.536     0.407     0.463       199\n",
            "           8      0.250     0.028     0.050        36\n",
            "\n",
            "    accuracy                          0.564      1122\n",
            "   macro avg      0.388     0.339     0.342      1122\n",
            "weighted avg      0.541     0.564     0.544      1122\n",
            "\n"
          ],
          "name": "stdout"
        }
      ]
    },
    {
      "cell_type": "code",
      "metadata": {
        "id": "EC4VdQt0vA90",
        "colab_type": "code",
        "colab": {
          "base_uri": "https://localhost:8080/",
          "height": 221
        },
        "outputId": "595a7cf0-c635-45d1-9121-032892d3d011"
      },
      "source": [
        "# Model 4 - Random Forest Classification model\n",
        "random_forest = RandomForestClassifier(n_estimators=100,random_state = 0)\n",
        "random_forest.fit(X_train, y_train)\n",
        "\n",
        "y_pred = random_forest.predict(X_test)\n",
        "\n",
        "print(metrics.classification_report(y_test, y_pred.round(), digits=3))"
      ],
      "execution_count": 43,
      "outputs": [
        {
          "output_type": "stream",
          "text": [
            "              precision    recall  f1-score   support\n",
            "\n",
            "           4      0.600     0.194     0.293        31\n",
            "           5      0.724     0.681     0.702       354\n",
            "           6      0.654     0.803     0.721       502\n",
            "           7      0.782     0.558     0.651       199\n",
            "           8      0.762     0.444     0.561        36\n",
            "\n",
            "    accuracy                          0.693      1122\n",
            "   macro avg      0.704     0.536     0.586      1122\n",
            "weighted avg      0.701     0.693     0.685      1122\n",
            "\n"
          ],
          "name": "stdout"
        }
      ]
    },
    {
      "cell_type": "code",
      "metadata": {
        "id": "94cs-afNvLY3",
        "colab_type": "code",
        "colab": {
          "base_uri": "https://localhost:8080/",
          "height": 221
        },
        "outputId": "ccabee47-466b-4502-843c-41670b25d05d"
      },
      "source": [
        "# Model 5 - GaussianNB\n",
        "\n",
        "gauss = GaussianNB()\n",
        "gauss.fit(X_train, y_train)\n",
        "\n",
        "y_pred = gauss.predict(X_test)\n",
        "print(metrics.classification_report(y_test, y_pred.round(), digits=3))"
      ],
      "execution_count": 44,
      "outputs": [
        {
          "output_type": "stream",
          "text": [
            "              precision    recall  f1-score   support\n",
            "\n",
            "           4      0.107     0.097     0.102        31\n",
            "           5      0.512     0.585     0.546       354\n",
            "           6      0.519     0.414     0.461       502\n",
            "           7      0.384     0.548     0.451       199\n",
            "           8      0.400     0.056     0.098        36\n",
            "\n",
            "    accuracy                          0.471      1122\n",
            "   macro avg      0.384     0.340     0.331      1122\n",
            "weighted avg      0.478     0.471     0.464      1122\n",
            "\n"
          ],
          "name": "stdout"
        }
      ]
    },
    {
      "cell_type": "markdown",
      "metadata": {
        "id": "a3dewNHomzNY",
        "colab_type": "text"
      },
      "source": [
        "# **Discussing and Comparing Performance**\n"
      ]
    },
    {
      "cell_type": "code",
      "metadata": {
        "id": "5yzMCot2QoS8",
        "colab_type": "code",
        "colab": {
          "base_uri": "https://localhost:8080/",
          "height": 889
        },
        "outputId": "34a6f4fd-601f-44ce-8ec6-d238c06e9fec"
      },
      "source": [
        "models = []\n",
        "models.append(('LR', LogisticRegression()))\n",
        "models.append(('DCT', DecisionTreeClassifier()))\n",
        "models.append(('KNN', KNeighborsClassifier()))\n",
        "models.append(('RDF', RandomForestClassifier()))\n",
        "models.append(('NB', GaussianNB()))\n",
        "    \n",
        "results = []\n",
        "names = []\n",
        "scoring = 'accuracy'\n",
        "\n",
        "print('MEAN & STANDARD DEVIATION ACCURACY FOR EACH ALGORITHM')\n",
        "for name, model in models:\n",
        "\t     kfold = model_selection.KFold(n_splits=10, random_state=seed)\n",
        "\t     cv_results = model_selection.cross_val_score(model, X_train, y_train, cv=kfold, scoring=scoring)\n",
        "\t     results.append(cv_results)\n",
        "\t     names.append(name)\n",
        "\t     msg = \"%s: %f (%f)\" % (name, cv_results.mean(), cv_results.std())\n",
        "\t     print(msg)\n",
        "\n",
        "fig = plt.figure(figsize=(12,12))\n",
        "fig.suptitle('Box and whisker plot showing the spread of accuracy scores across each cross validation fold for each model')\n",
        "ax = fig.add_subplot(111)\n",
        "plt.boxplot(results)\n",
        "ax.set_xticklabels(names)\n",
        "plt.show()"
      ],
      "execution_count": 45,
      "outputs": [
        {
          "output_type": "stream",
          "text": [
            "MEAN & STANDARD DEVIATION ACCURACY FOR EACH ALGORITHM\n",
            "LR: 0.526303 (0.018542)\n",
            "DCT: 0.589309 (0.036446)\n",
            "KNN: 0.543265 (0.021818)\n",
            "RDF: 0.672212 (0.030053)\n",
            "NB: 0.466569 (0.033739)\n"
          ],
          "name": "stdout"
        },
        {
          "output_type": "display_data",
          "data": {
            "image/png": "[encoded data removed]",
            "text/plain": [
              "<Figure size 864x864 with 1 Axes>"
            ]
          },
          "metadata": {
            "tags": []
          }
        }
      ]
    },
    {
      "cell_type": "markdown",
      "metadata": {
        "id": "CwZDnKiJm0t_",
        "colab_type": "text"
      },
      "source": [
        "From the classification report obtained for the various models above, we oberseve that classes 8,4 and 8 of models 1,3 and 5 respectively were not taking into consideration during training, since the recall value for all is 0.  \n",
        "\n",
        "The mean and standard deviation accuracies obtained for each of the algorithms above together with the box-whisker plot tells the story. It suggests that the best result is obtained with the Random Forest Classifier. However, it cannot be considered as an ideal model, reason being that according to the classification report of the Random Forest Classifier, its recall results are not representative enough for any of the classes, though there are some recall results even for the minority classes.\n",
        "\n",
        "Take note of the following definitions:\n",
        "\n",
        "**Precision** - for all instances classified positive, what percent was correct?\n",
        "\n",
        "**Recall** - for all instances that were actually positive, what percent was classified correctly?\n",
        "\n",
        "**f1score** -a weighted harmonic mean of precision and recall such that the best score is 1.0 and the worst is 0.0\n"
      ]
    },
    {
      "cell_type": "markdown",
      "metadata": {
        "id": "yxddd_HBSuNQ",
        "colab_type": "text"
      },
      "source": [
        "#**2. Application Review for AI Implementation**\n",
        "Search by voice allows users to speak into a device rather than typing keywords into a search query to generate results. From the nine voice search statistics to close out 2019 which can be located here: https://searchengineland.com/nine-voice-search-stats-to-close-out-2019-326884, it is acknowledged that quite a reasonable percentage of searches on mobile devices are voice searches. Also, there has been a consistent increase in voice based searches, such that, it is estimated by 2022 voice-based shopping is expected to grow to $40 billion. Search by voice also improves the user experience\n",
        "\n",
        "### **Problem Statement**\n",
        "Taking into account the attention of potential clients that may prefer search by voice to typing (estimated to increase as the years go by) and to serve both the literate and illiterate, it becomes problematic given the presented application in *Question 2* does not support search by voice \n",
        "\n",
        "### **Methodology**\n",
        "Search by voice basically implements the speech recognition technology to convert spoken utterances into text and then make querries with these texts.\n",
        "\n",
        "The speech recognition packages in python that can be used are as follows:\n",
        "*   apiai\n",
        "*   assemblyai\n",
        "*   Google-cloud-speech\n",
        "*   SpeechRecognition\n",
        "*   Pocketsphinx\n",
        "*   Watson-developer-cloud\n",
        "*   wit\n",
        "\n",
        "Let's consider the SpeechRecognition library which provides support for several engines and APIs, online and offline. It is installed using the \"*pip install SpeechRecognition*\" command.\n",
        "It has a Recogonizer class and this is where everything related to speech recognition is. The class has instances used to recognize speech and each instance has 7 methods to recognize speech from various audio sources, which are:\n",
        "*   recognize_bing()\n",
        "*   recognize_google()\n",
        "*   recognize_google_cloud()\n",
        "*   recognize_houndify()\n",
        "*   recognize_ibm()\n",
        "*   recognize_sphinx()\n",
        "*   recognize_wit\n",
        "\n",
        "To use the microphones, we install the PyAudio package in python using the *pip install pyaudio* command. In the microphone class we use the listen method to capture inputs from the microphone.\n",
        "\n",
        "After successfully being able to capture audio from a client and convert it into text, we then use it querry the database of the given application to obtain the desired results."
      ]
    }
  ]
}